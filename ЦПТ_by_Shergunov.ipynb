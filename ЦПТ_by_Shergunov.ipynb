{
 "cells": [
  {
   "cell_type": "code",
   "execution_count": 67,
   "metadata": {
    "collapsed": true
   },
   "outputs": [],
   "source": [
    "import numpy as np\n",
    "import math\n",
    "import scipy.stats as sts\n",
    "import pandas as pd\n",
    "import matplotlib.pyplot as plt\n",
    "%matplotlib inline"
   ]
  },
  {
   "cell_type": "code",
   "execution_count": 174,
   "metadata": {
    "collapsed": true
   },
   "outputs": [],
   "source": [
    "tukey=sts.tukeylambda(5) #Взяли какое-то  распределение :)"
   ]
  },
  {
   "cell_type": "code",
   "execution_count": 185,
   "metadata": {
    "collapsed": false
   },
   "outputs": [
    {
     "name": "stdout",
     "output_type": "stream",
     "text": [
      "0.0\n",
      "0.007243867243867243\n"
     ]
    }
   ],
   "source": [
    "lam = 5\n",
    "mean, var, skew, kurt = sts.tukeylambda.stats(lam, moments='mvsk')\n",
    "print(mean)\n",
    "print(var)"
   ]
  },
  {
   "cell_type": "code",
   "execution_count": 175,
   "metadata": {
    "collapsed": false
   },
   "outputs": [],
   "source": [
    "sample = tukey.rvs(size=1000) # Построили случайную выборку размером 1000"
   ]
  },
  {
   "cell_type": "markdown",
   "metadata": {},
   "source": [
    "# Гистрограмма и функция плотности"
   ]
  },
  {
   "cell_type": "code",
   "execution_count": 176,
   "metadata": {
    "collapsed": false
   },
   "outputs": [
    {
     "data": {
      "text/plain": [
       "(-0.3, 0.3)"
      ]
     },
     "execution_count": 176,
     "metadata": {},
     "output_type": "execute_result"
    },
    {
     "data": {
      "image/png": "[encoded data removed]",
      "text/plain": [
       "<matplotlib.figure.Figure at 0xd6180f0>"
      ]
     },
     "metadata": {},
     "output_type": "display_data"
    }
   ],
   "source": [
    "plt.hist(sample, normed=True)\n",
    "x = np.linspace(-4,4,1000)\n",
    "pdf = tukey.pdf(x)\n",
    "plt.plot(x, pdf, label='theoretical pdf',linewidth=4.0)\n",
    "plt.legend()\n",
    "plt.ylabel('fraction of samples and hist')\n",
    "plt.xlabel('$x$')\n",
    "plt.xlim(-0.3,0.3)"
   ]
  },
  {
   "cell_type": "markdown",
   "metadata": {},
   "source": [
    "Проверим, правильно ли всё работает. Проверим теоретическое среднее значение. (Вики говорит, что оно должно быть равно нулю)"
   ]
  },
  {
   "cell_type": "code",
   "execution_count": 177,
   "metadata": {
    "collapsed": false
   },
   "outputs": [
    {
     "name": "stdout",
     "output_type": "stream",
     "text": [
      "0.0\n",
      "0.0851109114266\n"
     ]
    }
   ],
   "source": [
    "print(tukey.mean())\n",
    "print(tukey.std())"
   ]
  },
  {
   "cell_type": "code",
   "execution_count": 167,
   "metadata": {
    "collapsed": true
   },
   "outputs": [],
   "source": [
    "m_5 =[]\n",
    "m_10 =[]\n",
    "m_50 = []"
   ]
  },
  {
   "cell_type": "markdown",
   "metadata": {},
   "source": [
    "# Численный эксперимент"
   ]
  },
  {
   "cell_type": "code",
   "execution_count": 186,
   "metadata": {
    "collapsed": false
   },
   "outputs": [
    {
     "ename": "NameError",
     "evalue": "name 'mlab' is not defined",
     "output_type": "error",
     "traceback": [
      "\u001b[0;31m---------------------------------------------------------------------------\u001b[0m",
      "\u001b[0;31mNameError\u001b[0m                                 Traceback (most recent call last)",
      "\u001b[0;32m<ipython-input-186-fd225b4c9b1b>\u001b[0m in \u001b[0;36m<module>\u001b[0;34m()\u001b[0m\n\u001b[1;32m      8\u001b[0m             \u001b[0mi\u001b[0m\u001b[1;33m+\u001b[0m\u001b[1;36m1\u001b[0m\u001b[1;33m\u001b[0m\u001b[0m\n\u001b[1;32m      9\u001b[0m     \u001b[1;32melif\u001b[0m \u001b[0mn\u001b[0m \u001b[1;33m==\u001b[0m \u001b[1;36m10\u001b[0m\u001b[1;33m:\u001b[0m\u001b[1;33m\u001b[0m\u001b[0m\n\u001b[0;32m---> 10\u001b[0;31m         \u001b[0my_10\u001b[0m\u001b[1;33m=\u001b[0m\u001b[0mmlab\u001b[0m\u001b[1;33m.\u001b[0m\u001b[0mnormpdf\u001b[0m\u001b[1;33m(\u001b[0m\u001b[0mx\u001b[0m\u001b[1;33m,\u001b[0m\u001b[0mtukey\u001b[0m\u001b[1;33m.\u001b[0m\u001b[0mmean\u001b[0m\u001b[1;33m(\u001b[0m\u001b[1;33m)\u001b[0m\u001b[1;33m,\u001b[0m\u001b[1;33m(\u001b[0m\u001b[0mturkey\u001b[0m\u001b[1;33m.\u001b[0m\u001b[0mstd\u001b[0m\u001b[1;33m(\u001b[0m\u001b[1;33m)\u001b[0m\u001b[1;33m**\u001b[0m\u001b[1;36m2\u001b[0m\u001b[1;33m)\u001b[0m\u001b[1;33m/\u001b[0m\u001b[0mn\u001b[0m\u001b[1;33m)\u001b[0m\u001b[1;33m\u001b[0m\u001b[0m\n\u001b[0m\u001b[1;32m     11\u001b[0m         \u001b[0mm_10\u001b[0m \u001b[1;33m=\u001b[0m\u001b[1;33m[\u001b[0m\u001b[1;33m]\u001b[0m\u001b[1;33m\u001b[0m\u001b[0m\n\u001b[1;32m     12\u001b[0m         \u001b[1;32mfor\u001b[0m \u001b[0mi\u001b[0m \u001b[1;32min\u001b[0m \u001b[0mrange\u001b[0m\u001b[1;33m(\u001b[0m\u001b[1;36m1001\u001b[0m\u001b[1;33m)\u001b[0m\u001b[1;33m:\u001b[0m\u001b[1;33m\u001b[0m\u001b[0m\n",
      "\u001b[0;31mNameError\u001b[0m: name 'mlab' is not defined"
     ]
    }
   ],
   "source": [
    "x = np.linspace(-4,4,1000)\n",
    "for n in (5,10,50):\n",
    "    if n == 5:\n",
    "        m_5 =[]\n",
    "        for i in range(1001):\n",
    "            m_5.append(tukey.rvs(n).mean())\n",
    "            i+1\n",
    "    elif n == 10:\n",
    "        y_10=mlab.normpdf(x,tukey.mean(),(turkey.std()**2)/n)\n",
    "        m_10 =[]\n",
    "        for i in range(1001):\n",
    "            m_10.append(tukey.rvs(n).mean())\n",
    "            i+1\n",
    "    elif n == 50:\n",
    "        y_50=mlab.normpdf(x,tukey.mean(),(turkey.std()**2)/n)\n",
    "        m_50 =[]\n",
    "        for i in range(1001):\n",
    "            m_50.append(tukey.rvs(n).mean())\n",
    "            i+1\n",
    "with plt.style.context(('classic')):\n",
    "    plt.figure(1)\n",
    "    plt.subplot(211)            \n",
    "    plt.hist(m_5, normed=True)\n",
    "    mean_5=np.mean(m_5)\n",
    "    y_5=sts.norm(loc=tukey.mean(), scale=((turkey.std()**2)/n))\n",
    "    plt.text(0.12,8,r'$n=5$')\n",
    "    plt.text(0.12,6,r'$\\mu=$'+str(round(mean_5,2)))\n",
    "    plt.subplot(212)            \n",
    "    plt.hist(m_10, normed=True)\n",
    "    mean_10=np.mean(m_10)\n",
    "    plt.text(0.06,10,r'$n=10$')\n",
    "    plt.text(0.05,8,r'$\\mu=$'+str(round(mean_10,2)))\n",
    "    plt.figure(2)\n",
    "    plt.subplot(211)            \n",
    "    plt.hist(m_50, normed=True)\n",
    "    mean_50=np.mean(m_50)\n",
    "    plt.text(0.03,25,r'$n=50$')\n",
    "    plt.text(0.03,20,r'$\\mu=$'+str(round(mean_50,2)))\n",
    "    plt.show()"
   ]
  }
 ],
 "metadata": {
  "kernelspec": {
   "display_name": "Python 3",
   "language": "python",
   "name": "python3"
  },
  "language_info": {
   "codemirror_mode": {
    "name": "ipython",
    "version": 3
   },
   "file_extension": ".py",
   "mimetype": "text/x-python",
   "name": "python",
   "nbconvert_exporter": "python",
   "pygments_lexer": "ipython3",
   "version": "3.6.0"
  }
 },
 "nbformat": 4,
 "nbformat_minor": 2
}
